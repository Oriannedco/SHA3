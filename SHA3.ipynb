{
 "cells": [
  {
   "cell_type": "markdown",
   "metadata": {},
   "source": [
    "Ce tp a été réalisé à l'aide du standard du NIST relatif à SHA3\n",
    "(https://nvlpubs.nist.gov/nistpubs/FIPS/NIST.FIPS.202.pdf)"
   ]
  },
  {
   "cell_type": "code",
   "execution_count": 78,
   "metadata": {},
   "outputs": [],
   "source": [
    "import numpy as np\n",
    "\n",
    "n=1088\n",
    "b=1600\n",
    "d=256\n",
    "l=6\n",
    "w=2^l"
   ]
  },
  {
   "cell_type": "code",
   "execution_count": 98,
   "metadata": {},
   "outputs": [],
   "source": [
    "def xor(a,b): \n",
    "    \n",
    "    res=''\n",
    "    \n",
    "    if (len(a)!=len(b)):\n",
    "        return (\"Error : Strings with differents lengths\")\n",
    "    \n",
    "    for i in range (len(a)):\n",
    "        res=str((int(a[-i-1])+int(b[-i-1]))%2)+res\n",
    "        \n",
    "    return res"
   ]
  },
  {
   "cell_type": "markdown",
   "metadata": {},
   "source": [
    "Les deux fonctions ci-dessous ont été utilisé afin de tester la fonction sha-3 sur des exemples du NIST"
   ]
  },
  {
   "cell_type": "code",
   "execution_count": 80,
   "metadata": {},
   "outputs": [],
   "source": [
    "def h2b(H,n): #convertit une chaine hexadecimal en binaire, n étant le nombre de bits que l'on veut sur le message de sortie de fonction\n",
    "    \n",
    "    T=''\n",
    "    m=len(H)/2\n",
    "    \n",
    "    for i in range (m):\n",
    "        hi=int((H[2*i]+H[2*i+1]),16)\n",
    "        hi=bin(hi)[2:].zfill(8)\n",
    "        T+=hi[::-1]\n",
    "    \n",
    "    return (T[:n])"
   ]
  },
  {
   "cell_type": "code",
   "execution_count": 81,
   "metadata": {},
   "outputs": [],
   "source": [
    "def b2h(S): #convertit une chaine binaire en hexadecimal\n",
    "    \n",
    "    length=len(S)\n",
    "    T=S+'0'*((-length)%8)\n",
    "    \n",
    "    if (length%8==0):\n",
    "        m=length/8\n",
    "    else :\n",
    "        m=(length//8)+1\n",
    "    \n",
    "    H=''\n",
    "    \n",
    "    for i in range (m):\n",
    "        hi=hex(int((T[8*i+4:8*(i+1)])[::-1]+(T[8*i:8*i+4])[::-1],2))[2:]\n",
    "        \n",
    "        if (len(hi)==1):\n",
    "            H+='0'+hi\n",
    "        else:\n",
    "            H+=hi\n",
    "        \n",
    "    return H[:2*m]"
   ]
  },
  {
   "cell_type": "code",
   "execution_count": 82,
   "metadata": {},
   "outputs": [],
   "source": [
    "def string_to_matrice(S): #convertit une chaine binaire en matrice tridimensionnelle\n",
    "    \n",
    "    a=np.zeros((5,5,w))\n",
    "    \n",
    "    for x in range (5):\n",
    "        for y in range (5):\n",
    "            for z in range (w):\n",
    "                a[x][y][z]=int(S[w*(5*y+x)+z])\n",
    "                \n",
    "    return a"
   ]
  },
  {
   "cell_type": "code",
   "execution_count": 83,
   "metadata": {},
   "outputs": [],
   "source": [
    "def Lane(i,j,a):\n",
    "    \n",
    "    Lane_out=''\n",
    "    \n",
    "    for k in range (w):\n",
    "        Lane_out+=str(int(a[i][j][k]))\n",
    "        \n",
    "    return Lane_out  "
   ]
  },
  {
   "cell_type": "code",
   "execution_count": 84,
   "metadata": {},
   "outputs": [],
   "source": [
    "def Plane(j,a):\n",
    "    \n",
    "    Plane_out=''\n",
    "    \n",
    "    for i in range (5):\n",
    "        Plane_out+=Lane(i,j,a)\n",
    "        \n",
    "    return Plane_out"
   ]
  },
  {
   "cell_type": "code",
   "execution_count": 85,
   "metadata": {},
   "outputs": [],
   "source": [
    "def matrice_to_string(a): #convertit une matrice en chaine binaire\n",
    "    \n",
    "    S=''\n",
    "    \n",
    "    for j in range (5):\n",
    "        S+=Plane(j,a)\n",
    "        \n",
    "    return S"
   ]
  },
  {
   "cell_type": "code",
   "execution_count": 86,
   "metadata": {},
   "outputs": [],
   "source": [
    "def theta(a):\n",
    "    \n",
    "    a_bis=np.zeros((5,5,w))\n",
    "    \n",
    "    #cree une matrice stockant la parite de toutes les colonnes\n",
    "    C=matrix(GF(2),5,w) \n",
    "    for x in range (5):\n",
    "        for z in range (w):\n",
    "            for y in range (5):\n",
    "                C[x,z]+=int(a[x][y][z])\n",
    "    \n",
    "    #cree une matrice stockant la somme des parites des deux colonnes adjacentes pour chaque colonne \n",
    "    D=matrix(GF(2),5,w) \n",
    "    for x in range (5):\n",
    "        for z in range (w):\n",
    "            D[x,z]=C[(x-1)%5,z]+C[(x+1)%5,(z-1)%w]\n",
    "    \n",
    "    #ajoute la somme des parites des deux colonnes adjacentes pour chaque colonne\n",
    "    for x in range (5):\n",
    "        for y in range (5):\n",
    "            for z in range (w):\n",
    "                a_bis[x][y][z]=(int(a[x][y][z])+D[x,z])%2\n",
    "                \n",
    "    return (a_bis)"
   ]
  },
  {
   "cell_type": "code",
   "execution_count": 87,
   "metadata": {},
   "outputs": [],
   "source": [
    "def rho(a):\n",
    "    \n",
    "    a_bis=np.zeros((5,5,w)) #variable stockant la matrice de sortie de fonction\n",
    "    \n",
    "    for z in range (w): #assigne les valeurs de la ligne a[0][0] qui ne subit pas de decalage\n",
    "        a_bis[0][0][z]=a[0][0][z]\n",
    "    \n",
    "    x,y=1,0 #initialise les valeurs de x0,y0\n",
    "    \n",
    "    for t in range (24):\n",
    "        for z in range (w):\n",
    "            a_bis[x][y][z]=a[x][y][(z-(t+1)*(t+2)/2)%w]\n",
    "        x,y=y,(2*x+3*y)%5\n",
    "    \n",
    "    return a_bis"
   ]
  },
  {
   "cell_type": "markdown",
   "metadata": {},
   "source": [
    "La matrice utilisée dans la fonction rho est $\\left(\\begin{array}{ccc}0 & 1\\\\2 & 3\\end{array}\\right)$ comme indiqué sur le standard du NIST"
   ]
  },
  {
   "cell_type": "code",
   "execution_count": 88,
   "metadata": {},
   "outputs": [],
   "source": [
    "def pi(a):\n",
    "    \n",
    "    a_bis=np.zeros((5,5,w)) #variable stockant la matrice de sortie de fonction\n",
    "    \n",
    "    for x in range (5):\n",
    "        for y in range (5):\n",
    "            for z in range (w):\n",
    "                a_bis[x][y][z]=a[(x+3*y)%5][x][z]\n",
    "                \n",
    "    return a_bis"
   ]
  },
  {
   "cell_type": "code",
   "execution_count": 89,
   "metadata": {},
   "outputs": [],
   "source": [
    "def chi(a):\n",
    "    \n",
    "    a_bis=np.zeros((5,5,w)) #variable stockant la matrice de sortie de fonction\n",
    "    \n",
    "    for x in range (5):\n",
    "        for y in range (5):\n",
    "            for z in range (w):\n",
    "                a_bis[x][y][z]=(a[x][y][z]+((int(a[(x+1)%5][y][z]+1))&int(a[(x+2)%5][y][z])))%2\n",
    "    \n",
    "    return a_bis"
   ]
  },
  {
   "cell_type": "code",
   "execution_count": 90,
   "metadata": {},
   "outputs": [],
   "source": [
    "def rc(t):\n",
    "    \n",
    "    if t%255==0:\n",
    "        return 1\n",
    "    \n",
    "    R='10000000'\n",
    "    \n",
    "    for i in range (1,(t%255)+1):\n",
    "        R='0'+R\n",
    "        R=xor(R[0],R[8])+R[1:]\n",
    "        R=R[:4]+xor(R[4],R[8])+R[5:]\n",
    "        R=R[:5]+xor(R[5],R[8])+R[6:]\n",
    "        R=R[:6]+xor(R[6],R[8])+R[7:]\n",
    "        R=R[:8]\n",
    "        \n",
    "    return R[0]"
   ]
  },
  {
   "cell_type": "code",
   "execution_count": 91,
   "metadata": {},
   "outputs": [],
   "source": [
    "def iota(a,ir): #ir correspond au tour de ronde\n",
    "    \n",
    "    a_bis=np.zeros((5,5,w)) #variable stockant la matrice de sortie de fonction\n",
    "    \n",
    "    for x in range (5):\n",
    "        for y in range (5):\n",
    "            for z in range (w):\n",
    "                a_bis[x][y][z]=a[x][y][z]\n",
    "    \n",
    "    RC='0'*w\n",
    "    \n",
    "    #la chaine RC generee en fonction de ir ici correspond aux constantes Ci du sujet de tp \n",
    "    for j in range (l+1): \n",
    "        RC=RC[:2**j-1]+str(rc(j+7*ir))+RC[2**j:]\n",
    "        \n",
    "    for z in range (w):\n",
    "        a_bis[0][0][z]=(a_bis[0][0][z]+int(RC[z]))%2\n",
    "        \n",
    "    return a_bis"
   ]
  },
  {
   "cell_type": "code",
   "execution_count": 92,
   "metadata": {},
   "outputs": [],
   "source": [
    "def Rnd(a,ir):\n",
    "    return (iota(chi(pi(rho(theta(a)))),ir))"
   ]
  },
  {
   "cell_type": "code",
   "execution_count": 93,
   "metadata": {},
   "outputs": [],
   "source": [
    "def f(S):\n",
    "    \n",
    "    a=string_to_matrice(S)\n",
    "    \n",
    "    for ir in range (12+2*l):\n",
    "        a=Rnd(a,ir)\n",
    "        \n",
    "    S_bis=matrice_to_string(a)\n",
    "    \n",
    "    return S_bis"
   ]
  },
  {
   "cell_type": "code",
   "execution_count": 97,
   "metadata": {},
   "outputs": [],
   "source": [
    "def pad(x,m): #renvoie la padding en bit à ajouter au message de taille m pour en faire un message de taille multiple de x\n",
    "    \n",
    "    j=(-m-2)%x\n",
    "    P='1'+'0'*j+'1'\n",
    "    \n",
    "    return P"
   ]
  },
  {
   "cell_type": "code",
   "execution_count": 95,
   "metadata": {},
   "outputs": [],
   "source": [
    "def Sponge(N,d):\n",
    "    \n",
    "    P=N+pad(n,len(N))\n",
    "    k=len(P)/n\n",
    "    c=b-n\n",
    "    S='0'*b\n",
    "    \n",
    "    for i in range (0,k):\n",
    "        S=f(xor(S,(P[n*i:n*(i+1)]+('0'*c))))\n",
    "        \n",
    "    Z=''\n",
    "    \n",
    "    while(len(Z)<d):\n",
    "        Z+=S[0:n]\n",
    "        S=f(S)\n",
    "        \n",
    "    return Z[0:d]"
   ]
  },
  {
   "cell_type": "markdown",
   "metadata": {},
   "source": [
    "Test de la fonction sur un message du NIST et son haché ( https://csrc.nist.gov/CSRC/media/Projects/Cryptographic-Standards-and-Guidelines/documents/examples/SHA3-256_1600.pdf )"
   ]
  },
  {
   "cell_type": "code",
   "execution_count": 96,
   "metadata": {},
   "outputs": [
    {
     "data": {
      "text/plain": [
       "True"
      ]
     },
     "execution_count": 96,
     "metadata": {},
     "output_type": "execute_result"
    }
   ],
   "source": [
    "msg='1100010111000101110001011100010111000101110001011100010111000101110001011100010111000101110001011100010111000101110001011100010111000101110001011100010111000101110001011100010111000101110001011100010111000101110001011100010111000101110001011100010111000101110001011100010111000101110001011100010111000101110001011100010111000101110001011100010111000101110001011100010111000101110001011100010111000101110001011100010111000101110001011100010111000101110001011100010111000101110001011100010111000101110001011100010111000101110001011100010111000101110001011100010111000101110001011100010111000101110001011100010111000101110001011100010111000101110001011100010111000101110001011100010111000101110001011100010111000101110001011100010111000101110001011100010111000101110001011100010111000101110001011100010111000101110001011100010111000101110001011100010111000101110001011100010111000101110001011100010111000101110001011100010111000101110001011100010111000101110001011100010111000101110001011100010111000101110001011100010111000101110001011100010111000101110001011100010111000101110001011100010111000101110001011100010111000101110001011100010111000101110001011100010111000101110001011100010111000101110001011100010111000101110001011100010111000101110001011100010111000101110001011100010111000101110001011100010111000101110001011100010111000101110001011100010111000101110001011100010111000101110001011100010111000101110001011100010111000101110001011100010111000101110001011100010111000101110001011100010111000101110001011100010111000101110001011100010111000101110001011100010111000101110001011100010111000101'\n",
    "res=b2h(Sponge(msg+'01',d))\n",
    "res_nist='79F38ADEC5C20307A98EF76E8324AFBFD46CFD81B22E3973C65FA1BD9DE31787'\n",
    "int(res_nist,16)==int(res,16)"
   ]
  },
  {
   "cell_type": "code",
   "execution_count": null,
   "metadata": {},
   "outputs": [],
   "source": []
  },
  {
   "cell_type": "code",
   "execution_count": null,
   "metadata": {},
   "outputs": [],
   "source": []
  }
 ],
 "metadata": {
  "kernelspec": {
   "display_name": "SageMath 9.3",
   "language": "sage",
   "name": "sagemath"
  },
  "language_info": {
   "codemirror_mode": {
    "name": "ipython",
    "version": 3
   },
   "file_extension": ".py",
   "mimetype": "text/x-python",
   "name": "python",
   "nbconvert_exporter": "python",
   "pygments_lexer": "ipython3",
   "version": "3.7.10"
  }
 },
 "nbformat": 4,
 "nbformat_minor": 4
}
